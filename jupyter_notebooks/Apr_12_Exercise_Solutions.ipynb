{
 "cells": [
  {
   "cell_type": "markdown",
   "metadata": {},
   "source": [
    "# To run the contents of a cell, hold down Shift and press Enter\n",
    "\n",
    "# Make sure the cell you are trying to run is a \"code\" cell instead of a \"markdown\" cell on the toolbar above"
   ]
  },
  {
   "cell_type": "markdown",
   "metadata": {},
   "source": [
    "# Exercise 1"
   ]
  },
  {
   "cell_type": "markdown",
   "metadata": {},
   "source": [
    "Assign your favorite number to a variable called \"favorite_num\".  Convert it to a string."
   ]
  },
  {
   "cell_type": "code",
   "execution_count": 1,
   "metadata": {},
   "outputs": [
    {
     "data": {
      "text/plain": [
       "'4'"
      ]
     },
     "execution_count": 1,
     "metadata": {},
     "output_type": "execute_result"
    }
   ],
   "source": [
    "favorite_num = 4\n",
    "str(favorite_num)"
   ]
  },
  {
   "cell_type": "markdown",
   "metadata": {},
   "source": [
    "# Exercise 2"
   ]
  },
  {
   "cell_type": "markdown",
   "metadata": {},
   "source": [
    "List the datatype for variable a, b, and c. Convert numerical variables to string variables.\n",
    "\n",
    "Note: Jupyter Notebook only print outputs from last command. Use a new cell for each command to get output or add the print function in front of each command."
   ]
  },
  {
   "cell_type": "code",
   "execution_count": 2,
   "metadata": {},
   "outputs": [
    {
     "name": "stdout",
     "output_type": "stream",
     "text": [
      "<class 'int'>\n",
      "<class 'str'>\n",
      "<class 'float'>\n"
     ]
    },
    {
     "data": {
      "text/plain": [
       "'97.4'"
      ]
     },
     "execution_count": 2,
     "metadata": {},
     "output_type": "execute_result"
    }
   ],
   "source": [
    "a = 10\n",
    "b = \"Today is Thursday.\"\n",
    "c = 97.4\n",
    "\n",
    "print(type(a))\n",
    "print(type(b))\n",
    "print(type(c))\n",
    "\n",
    "str(a)\n",
    "str(c)"
   ]
  },
  {
   "cell_type": "markdown",
   "metadata": {},
   "source": [
    "# Exercise 3"
   ]
  },
  {
   "cell_type": "markdown",
   "metadata": {},
   "source": [
    "Create a list of numbers from 1 to 10 inclusive.  Add number 11 to the list.  What number is positioned at index 5? "
   ]
  },
  {
   "cell_type": "code",
   "execution_count": 3,
   "metadata": {},
   "outputs": [
    {
     "data": {
      "text/plain": [
       "6"
      ]
     },
     "execution_count": 3,
     "metadata": {},
     "output_type": "execute_result"
    }
   ],
   "source": [
    "#Solution 1\n",
    "list_num=[1,2,3,4,5,6,7,8,9,10]\n",
    "list_num.append(11)\n",
    "list_num[5]"
   ]
  },
  {
   "cell_type": "code",
   "execution_count": 4,
   "metadata": {},
   "outputs": [
    {
     "data": {
      "text/plain": [
       "6"
      ]
     },
     "execution_count": 4,
     "metadata": {},
     "output_type": "execute_result"
    }
   ],
   "source": [
    "#Solution 2\n",
    "list_num2 = list(range(1,11))\n",
    "list_num2.append(11)\n",
    "list_num2[5]"
   ]
  },
  {
   "cell_type": "markdown",
   "metadata": {},
   "source": [
    "Extract values 6, 7, and 8 from the list."
   ]
  },
  {
   "cell_type": "code",
   "execution_count": 5,
   "metadata": {},
   "outputs": [
    {
     "data": {
      "text/plain": [
       "[6, 7, 8]"
      ]
     },
     "execution_count": 5,
     "metadata": {},
     "output_type": "execute_result"
    }
   ],
   "source": [
    "list_num[5:8]"
   ]
  },
  {
   "cell_type": "markdown",
   "metadata": {},
   "source": [
    "# Exercise 4"
   ]
  },
  {
   "cell_type": "markdown",
   "metadata": {},
   "source": [
    "Create a tuple of numbers from 1 to 10 inclusive.  Add number 11 to the tuple. What happened and why?"
   ]
  },
  {
   "cell_type": "code",
   "execution_count": 6,
   "metadata": {},
   "outputs": [
    {
     "ename": "AttributeError",
     "evalue": "'tuple' object has no attribute 'append'",
     "output_type": "error",
     "traceback": [
      "\u001b[1;31m---------------------------------------------------------------------------\u001b[0m",
      "\u001b[1;31mAttributeError\u001b[0m                            Traceback (most recent call last)",
      "\u001b[1;32m<ipython-input-6-3edc1b9df25a>\u001b[0m in \u001b[0;36m<module>\u001b[1;34m()\u001b[0m\n\u001b[0;32m      1\u001b[0m \u001b[0mtuple_num\u001b[0m\u001b[1;33m=\u001b[0m\u001b[1;33m(\u001b[0m\u001b[1;36m1\u001b[0m\u001b[1;33m,\u001b[0m\u001b[1;36m2\u001b[0m\u001b[1;33m,\u001b[0m\u001b[1;36m3\u001b[0m\u001b[1;33m,\u001b[0m\u001b[1;36m4\u001b[0m\u001b[1;33m,\u001b[0m\u001b[1;36m5\u001b[0m\u001b[1;33m,\u001b[0m\u001b[1;36m6\u001b[0m\u001b[1;33m,\u001b[0m\u001b[1;36m7\u001b[0m\u001b[1;33m,\u001b[0m\u001b[1;36m8\u001b[0m\u001b[1;33m,\u001b[0m\u001b[1;36m9\u001b[0m\u001b[1;33m,\u001b[0m\u001b[1;36m10\u001b[0m\u001b[1;33m)\u001b[0m\u001b[1;33m\u001b[0m\u001b[0m\n\u001b[0;32m      2\u001b[0m \u001b[0mtuple_num\u001b[0m\u001b[1;33m\u001b[0m\u001b[0m\n\u001b[1;32m----> 3\u001b[1;33m \u001b[0mtuple_num\u001b[0m\u001b[1;33m.\u001b[0m\u001b[0mappend\u001b[0m\u001b[1;33m(\u001b[0m\u001b[1;36m11\u001b[0m\u001b[1;33m)\u001b[0m\u001b[1;33m\u001b[0m\u001b[0m\n\u001b[0m",
      "\u001b[1;31mAttributeError\u001b[0m: 'tuple' object has no attribute 'append'"
     ]
    }
   ],
   "source": [
    "tuple_num=(1,2,3,4,5,6,7,8,9,10)\n",
    "tuple_num\n",
    "tuple_num.append(11)"
   ]
  },
  {
   "cell_type": "markdown",
   "metadata": {},
   "source": [
    "Tuples are immutable, i.e. cannot change their values."
   ]
  },
  {
   "cell_type": "markdown",
   "metadata": {},
   "source": [
    "Extract values 6, 7, and 8 from the tuple."
   ]
  },
  {
   "cell_type": "code",
   "execution_count": 7,
   "metadata": {},
   "outputs": [
    {
     "data": {
      "text/plain": [
       "(6, 7, 8)"
      ]
     },
     "execution_count": 7,
     "metadata": {},
     "output_type": "execute_result"
    }
   ],
   "source": [
    "tuple_num[5:8]"
   ]
  },
  {
   "cell_type": "markdown",
   "metadata": {},
   "source": [
    "# Exercise 5"
   ]
  },
  {
   "cell_type": "markdown",
   "metadata": {},
   "source": [
    "Get the value of the key, 'first name', from the following dictionary:"
   ]
  },
  {
   "cell_type": "code",
   "execution_count": 8,
   "metadata": {},
   "outputs": [],
   "source": [
    "Jack_dict = {'first name': 'Jack', 'last name': 'Smith', 1: 30}"
   ]
  },
  {
   "cell_type": "code",
   "execution_count": 9,
   "metadata": {},
   "outputs": [
    {
     "data": {
      "text/plain": [
       "'Jack'"
      ]
     },
     "execution_count": 9,
     "metadata": {},
     "output_type": "execute_result"
    }
   ],
   "source": [
    "Jack_dict['first name']"
   ]
  },
  {
   "cell_type": "markdown",
   "metadata": {},
   "source": [
    "Can you think of instances where it is better to use a dictionary rather than a list?"
   ]
  },
  {
   "cell_type": "markdown",
   "metadata": {},
   "source": [
    "Dictionary is better for faster lookup.  For example, if you want to look up someone's first name, you just need the key \n",
    "associated with that value. Take Jack_dict for example, 'first name' is the key and 'Jack' would be the value we are \n",
    "looking for."
   ]
  },
  {
   "cell_type": "markdown",
   "metadata": {
    "collapsed": true
   },
   "source": [
    "You can expand the dictionary as you get more information. For example, Jack likes the color blue.  Let's add that to the dictionary."
   ]
  },
  {
   "cell_type": "code",
   "execution_count": 10,
   "metadata": {},
   "outputs": [
    {
     "data": {
      "text/plain": [
       "{1: 30, 'Favorite_Color': 'Blue', 'first name': 'Jack', 'last name': 'Smith'}"
      ]
     },
     "execution_count": 10,
     "metadata": {},
     "output_type": "execute_result"
    }
   ],
   "source": [
    "Jack_dict['Favorite_Color'] = 'Blue'\n",
    "Jack_dict"
   ]
  },
  {
   "cell_type": "code",
   "execution_count": 11,
   "metadata": {},
   "outputs": [
    {
     "data": {
      "text/plain": [
       "'Blue'"
      ]
     },
     "execution_count": 11,
     "metadata": {},
     "output_type": "execute_result"
    }
   ],
   "source": [
    "Jack_dict['Favorite_Color']"
   ]
  },
  {
   "cell_type": "markdown",
   "metadata": {},
   "source": [
    "# Exercise 6"
   ]
  },
  {
   "cell_type": "markdown",
   "metadata": {},
   "source": [
    "Write a function to convert temperature from Fahrenheit to Celsius. The formula is:\n",
    "\n",
    "C = (F - 32)*(5/9)\n",
    "\n",
    "Test your function by converting 50 degrees F to C. The answer should be 10.\n"
   ]
  },
  {
   "cell_type": "markdown",
   "metadata": {},
   "source": [
    "Note: Depending on the version of Python you are using, you may need to convert integers to floating points before carrying out the division."
   ]
  },
  {
   "cell_type": "code",
   "execution_count": 12,
   "metadata": {},
   "outputs": [
    {
     "data": {
      "text/plain": [
       "10.0"
      ]
     },
     "execution_count": 12,
     "metadata": {},
     "output_type": "execute_result"
    }
   ],
   "source": [
    "#Solution for Python 3\n",
    "def FtoC(f):\n",
    "    c=(f-32)*(5/9)\n",
    "    return c\n",
    "\n",
    "FtoC(50)"
   ]
  },
  {
   "cell_type": "code",
   "execution_count": 13,
   "metadata": {},
   "outputs": [
    {
     "data": {
      "text/plain": [
       "10.0"
      ]
     },
     "execution_count": 13,
     "metadata": {},
     "output_type": "execute_result"
    }
   ],
   "source": [
    "#Solution for Python 2.7\n",
    "def Ftemp_to_Ctemp(f):\n",
    "    c = (f-32) * (float(5)/float(9))\n",
    "    return c\n",
    "Ftemp_to_Ctemp(50)\n"
   ]
  },
  {
   "cell_type": "markdown",
   "metadata": {},
   "source": [
    "In Python 2, \"/\" indicates integer division if both numerator and denominator are integers. \n",
    "So in Python 2, 5/9 will return 0.\n",
    "\n",
    "In Python 3, \"/\" indicates float division regardless of the data type of numerator and denominator.\n",
    "So in Python 3, 5/9 will return 0.5555556."
   ]
  },
  {
   "cell_type": "markdown",
   "metadata": {},
   "source": [
    "# Exercise 7"
   ]
  },
  {
   "cell_type": "markdown",
   "metadata": {
    "collapsed": true
   },
   "source": [
    "Import pandas, read in 2010_Census_Populations_by_Zip_Code.csv. What is the average household size in zip codes where the median age is over 50?"
   ]
  },
  {
   "cell_type": "markdown",
   "metadata": {},
   "source": [
    "Create a new derived column that shows male to female ratio and name it \"M/F ratio\"."
   ]
  },
  {
   "cell_type": "code",
   "execution_count": 14,
   "metadata": {},
   "outputs": [
    {
     "data": {
      "text/html": [
       "<div>\n",
       "<style scoped>\n",
       "    .dataframe tbody tr th:only-of-type {\n",
       "        vertical-align: middle;\n",
       "    }\n",
       "\n",
       "    .dataframe tbody tr th {\n",
       "        vertical-align: top;\n",
       "    }\n",
       "\n",
       "    .dataframe thead th {\n",
       "        text-align: right;\n",
       "    }\n",
       "</style>\n",
       "<table border=\"1\" class=\"dataframe\">\n",
       "  <thead>\n",
       "    <tr style=\"text-align: right;\">\n",
       "      <th></th>\n",
       "      <th>Zip Code</th>\n",
       "      <th>Total Population</th>\n",
       "      <th>Median Age</th>\n",
       "      <th>Total Males</th>\n",
       "      <th>Total Females</th>\n",
       "      <th>Total Households</th>\n",
       "      <th>Average Household Size</th>\n",
       "    </tr>\n",
       "  </thead>\n",
       "  <tbody>\n",
       "    <tr>\n",
       "      <th>0</th>\n",
       "      <td>91371</td>\n",
       "      <td>1</td>\n",
       "      <td>73.5</td>\n",
       "      <td>0</td>\n",
       "      <td>1</td>\n",
       "      <td>1</td>\n",
       "      <td>1.00</td>\n",
       "    </tr>\n",
       "    <tr>\n",
       "      <th>1</th>\n",
       "      <td>90001</td>\n",
       "      <td>57110</td>\n",
       "      <td>26.6</td>\n",
       "      <td>28468</td>\n",
       "      <td>28642</td>\n",
       "      <td>12971</td>\n",
       "      <td>4.40</td>\n",
       "    </tr>\n",
       "    <tr>\n",
       "      <th>2</th>\n",
       "      <td>90002</td>\n",
       "      <td>51223</td>\n",
       "      <td>25.5</td>\n",
       "      <td>24876</td>\n",
       "      <td>26347</td>\n",
       "      <td>11731</td>\n",
       "      <td>4.36</td>\n",
       "    </tr>\n",
       "    <tr>\n",
       "      <th>3</th>\n",
       "      <td>90003</td>\n",
       "      <td>66266</td>\n",
       "      <td>26.3</td>\n",
       "      <td>32631</td>\n",
       "      <td>33635</td>\n",
       "      <td>15642</td>\n",
       "      <td>4.22</td>\n",
       "    </tr>\n",
       "    <tr>\n",
       "      <th>4</th>\n",
       "      <td>90004</td>\n",
       "      <td>62180</td>\n",
       "      <td>34.8</td>\n",
       "      <td>31302</td>\n",
       "      <td>30878</td>\n",
       "      <td>22547</td>\n",
       "      <td>2.73</td>\n",
       "    </tr>\n",
       "  </tbody>\n",
       "</table>\n",
       "</div>"
      ],
      "text/plain": [
       "   Zip Code  Total Population  Median Age  Total Males  Total Females  \\\n",
       "0     91371                 1        73.5            0              1   \n",
       "1     90001             57110        26.6        28468          28642   \n",
       "2     90002             51223        25.5        24876          26347   \n",
       "3     90003             66266        26.3        32631          33635   \n",
       "4     90004             62180        34.8        31302          30878   \n",
       "\n",
       "   Total Households  Average Household Size  \n",
       "0                 1                    1.00  \n",
       "1             12971                    4.40  \n",
       "2             11731                    4.36  \n",
       "3             15642                    4.22  \n",
       "4             22547                    2.73  "
      ]
     },
     "execution_count": 14,
     "metadata": {},
     "output_type": "execute_result"
    }
   ],
   "source": [
    "import pandas as pd\n",
    "df = pd.read_csv('2010_Census_Populations_by_Zip_Code.csv')\n",
    "df.head()\n"
   ]
  },
  {
   "cell_type": "code",
   "execution_count": 15,
   "metadata": {},
   "outputs": [
    {
     "data": {
      "text/html": [
       "<div>\n",
       "<style scoped>\n",
       "    .dataframe tbody tr th:only-of-type {\n",
       "        vertical-align: middle;\n",
       "    }\n",
       "\n",
       "    .dataframe tbody tr th {\n",
       "        vertical-align: top;\n",
       "    }\n",
       "\n",
       "    .dataframe thead th {\n",
       "        text-align: right;\n",
       "    }\n",
       "</style>\n",
       "<table border=\"1\" class=\"dataframe\">\n",
       "  <thead>\n",
       "    <tr style=\"text-align: right;\">\n",
       "      <th></th>\n",
       "      <th>Zip Code</th>\n",
       "      <th>Total Population</th>\n",
       "      <th>Median Age</th>\n",
       "      <th>Total Males</th>\n",
       "      <th>Total Females</th>\n",
       "      <th>Total Households</th>\n",
       "      <th>Average Household Size</th>\n",
       "    </tr>\n",
       "  </thead>\n",
       "  <tbody>\n",
       "    <tr>\n",
       "      <th>0</th>\n",
       "      <td>91371</td>\n",
       "      <td>1</td>\n",
       "      <td>73.5</td>\n",
       "      <td>0</td>\n",
       "      <td>1</td>\n",
       "      <td>1</td>\n",
       "      <td>1.00</td>\n",
       "    </tr>\n",
       "    <tr>\n",
       "      <th>58</th>\n",
       "      <td>90067</td>\n",
       "      <td>2424</td>\n",
       "      <td>65.3</td>\n",
       "      <td>1074</td>\n",
       "      <td>1350</td>\n",
       "      <td>1510</td>\n",
       "      <td>1.61</td>\n",
       "    </tr>\n",
       "    <tr>\n",
       "      <th>62</th>\n",
       "      <td>90073</td>\n",
       "      <td>539</td>\n",
       "      <td>56.9</td>\n",
       "      <td>506</td>\n",
       "      <td>33</td>\n",
       "      <td>4</td>\n",
       "      <td>1.25</td>\n",
       "    </tr>\n",
       "    <tr>\n",
       "      <th>68</th>\n",
       "      <td>90095</td>\n",
       "      <td>3</td>\n",
       "      <td>52.5</td>\n",
       "      <td>2</td>\n",
       "      <td>1</td>\n",
       "      <td>2</td>\n",
       "      <td>1.50</td>\n",
       "    </tr>\n",
       "    <tr>\n",
       "      <th>149</th>\n",
       "      <td>90740</td>\n",
       "      <td>23729</td>\n",
       "      <td>57.5</td>\n",
       "      <td>10423</td>\n",
       "      <td>13306</td>\n",
       "      <td>12830</td>\n",
       "      <td>1.83</td>\n",
       "    </tr>\n",
       "    <tr>\n",
       "      <th>166</th>\n",
       "      <td>90822</td>\n",
       "      <td>117</td>\n",
       "      <td>63.9</td>\n",
       "      <td>109</td>\n",
       "      <td>8</td>\n",
       "      <td>2</td>\n",
       "      <td>4.50</td>\n",
       "    </tr>\n",
       "    <tr>\n",
       "      <th>171</th>\n",
       "      <td>91008</td>\n",
       "      <td>1391</td>\n",
       "      <td>54.6</td>\n",
       "      <td>614</td>\n",
       "      <td>777</td>\n",
       "      <td>562</td>\n",
       "      <td>2.39</td>\n",
       "    </tr>\n",
       "    <tr>\n",
       "      <th>180</th>\n",
       "      <td>91046</td>\n",
       "      <td>156</td>\n",
       "      <td>74.0</td>\n",
       "      <td>51</td>\n",
       "      <td>105</td>\n",
       "      <td>114</td>\n",
       "      <td>1.37</td>\n",
       "    </tr>\n",
       "    <tr>\n",
       "      <th>311</th>\n",
       "      <td>93544</td>\n",
       "      <td>1259</td>\n",
       "      <td>52.4</td>\n",
       "      <td>689</td>\n",
       "      <td>570</td>\n",
       "      <td>569</td>\n",
       "      <td>2.20</td>\n",
       "    </tr>\n",
       "  </tbody>\n",
       "</table>\n",
       "</div>"
      ],
      "text/plain": [
       "     Zip Code  Total Population  Median Age  Total Males  Total Females  \\\n",
       "0       91371                 1        73.5            0              1   \n",
       "58      90067              2424        65.3         1074           1350   \n",
       "62      90073               539        56.9          506             33   \n",
       "68      90095                 3        52.5            2              1   \n",
       "149     90740             23729        57.5        10423          13306   \n",
       "166     90822               117        63.9          109              8   \n",
       "171     91008              1391        54.6          614            777   \n",
       "180     91046               156        74.0           51            105   \n",
       "311     93544              1259        52.4          689            570   \n",
       "\n",
       "     Total Households  Average Household Size  \n",
       "0                   1                    1.00  \n",
       "58               1510                    1.61  \n",
       "62                  4                    1.25  \n",
       "68                  2                    1.50  \n",
       "149             12830                    1.83  \n",
       "166                 2                    4.50  \n",
       "171               562                    2.39  \n",
       "180               114                    1.37  \n",
       "311               569                    2.20  "
      ]
     },
     "execution_count": 15,
     "metadata": {},
     "output_type": "execute_result"
    }
   ],
   "source": [
    "df[df['Median Age'] > 50]"
   ]
  },
  {
   "cell_type": "code",
   "execution_count": 16,
   "metadata": {},
   "outputs": [
    {
     "data": {
      "text/html": [
       "<div>\n",
       "<style scoped>\n",
       "    .dataframe tbody tr th:only-of-type {\n",
       "        vertical-align: middle;\n",
       "    }\n",
       "\n",
       "    .dataframe tbody tr th {\n",
       "        vertical-align: top;\n",
       "    }\n",
       "\n",
       "    .dataframe thead th {\n",
       "        text-align: right;\n",
       "    }\n",
       "</style>\n",
       "<table border=\"1\" class=\"dataframe\">\n",
       "  <thead>\n",
       "    <tr style=\"text-align: right;\">\n",
       "      <th></th>\n",
       "      <th>Zip Code</th>\n",
       "      <th>Total Population</th>\n",
       "      <th>Median Age</th>\n",
       "      <th>Total Males</th>\n",
       "      <th>Total Females</th>\n",
       "      <th>Total Households</th>\n",
       "      <th>Average Household Size</th>\n",
       "      <th>M/F ratio</th>\n",
       "    </tr>\n",
       "  </thead>\n",
       "  <tbody>\n",
       "    <tr>\n",
       "      <th>0</th>\n",
       "      <td>91371</td>\n",
       "      <td>1</td>\n",
       "      <td>73.5</td>\n",
       "      <td>0</td>\n",
       "      <td>1</td>\n",
       "      <td>1</td>\n",
       "      <td>1.00</td>\n",
       "      <td>0.000000</td>\n",
       "    </tr>\n",
       "    <tr>\n",
       "      <th>1</th>\n",
       "      <td>90001</td>\n",
       "      <td>57110</td>\n",
       "      <td>26.6</td>\n",
       "      <td>28468</td>\n",
       "      <td>28642</td>\n",
       "      <td>12971</td>\n",
       "      <td>4.40</td>\n",
       "      <td>0.993925</td>\n",
       "    </tr>\n",
       "    <tr>\n",
       "      <th>2</th>\n",
       "      <td>90002</td>\n",
       "      <td>51223</td>\n",
       "      <td>25.5</td>\n",
       "      <td>24876</td>\n",
       "      <td>26347</td>\n",
       "      <td>11731</td>\n",
       "      <td>4.36</td>\n",
       "      <td>0.944168</td>\n",
       "    </tr>\n",
       "    <tr>\n",
       "      <th>3</th>\n",
       "      <td>90003</td>\n",
       "      <td>66266</td>\n",
       "      <td>26.3</td>\n",
       "      <td>32631</td>\n",
       "      <td>33635</td>\n",
       "      <td>15642</td>\n",
       "      <td>4.22</td>\n",
       "      <td>0.970150</td>\n",
       "    </tr>\n",
       "    <tr>\n",
       "      <th>4</th>\n",
       "      <td>90004</td>\n",
       "      <td>62180</td>\n",
       "      <td>34.8</td>\n",
       "      <td>31302</td>\n",
       "      <td>30878</td>\n",
       "      <td>22547</td>\n",
       "      <td>2.73</td>\n",
       "      <td>1.013731</td>\n",
       "    </tr>\n",
       "  </tbody>\n",
       "</table>\n",
       "</div>"
      ],
      "text/plain": [
       "   Zip Code  Total Population  Median Age  Total Males  Total Females  \\\n",
       "0     91371                 1        73.5            0              1   \n",
       "1     90001             57110        26.6        28468          28642   \n",
       "2     90002             51223        25.5        24876          26347   \n",
       "3     90003             66266        26.3        32631          33635   \n",
       "4     90004             62180        34.8        31302          30878   \n",
       "\n",
       "   Total Households  Average Household Size  M/F ratio  \n",
       "0                 1                    1.00   0.000000  \n",
       "1             12971                    4.40   0.993925  \n",
       "2             11731                    4.36   0.944168  \n",
       "3             15642                    4.22   0.970150  \n",
       "4             22547                    2.73   1.013731  "
      ]
     },
     "execution_count": 16,
     "metadata": {},
     "output_type": "execute_result"
    }
   ],
   "source": [
    "df['M/F ratio'] = df['Total Males'] / df['Total Females']\n",
    "\n",
    "df.head()"
   ]
  },
  {
   "cell_type": "markdown",
   "metadata": {},
   "source": [
    "# Exercise 8"
   ]
  },
  {
   "cell_type": "markdown",
   "metadata": {},
   "source": [
    "Rename the \"M/F ratio\" column to \"Male to Female ratio\". \n",
    "\n",
    "There will be missing values in the Male to Female ratio column.  Import matplotlib and use matplotlib to create a graph of any statistic except Male to Female ratio."
   ]
  },
  {
   "cell_type": "code",
   "execution_count": 17,
   "metadata": {},
   "outputs": [
    {
     "data": {
      "text/plain": [
       "<matplotlib.figure.Figure at 0x8c74fd0>"
      ]
     },
     "metadata": {},
     "output_type": "display_data"
    }
   ],
   "source": [
    "import matplotlib.pyplot as plt\n",
    "\n",
    "#Example 1\n",
    "plt.bar(df['Zip Code'], df['Total Population']) # A bar chart\n",
    "plt.xlabel('Zip Code')\n",
    "plt.ylabel('Total Population')\n",
    "plt.show()\n"
   ]
  },
  {
   "cell_type": "code",
   "execution_count": 18,
   "metadata": {},
   "outputs": [
    {
     "data": {
      "image/png": "[encoded data removed]",
      "text/plain": [
       "<matplotlib.figure.Figure at 0x8133a90>"
      ]
     },
     "metadata": {},
     "output_type": "display_data"
    }
   ],
   "source": [
    "#Example 2\n",
    "plt.hist(df['Zip Code']) # A bar chart\n",
    "plt.xlabel('Zip Code')\n",
    "plt.ylabel('Frequency Count')\n",
    "plt.show()"
   ]
  },
  {
   "cell_type": "markdown",
   "metadata": {},
   "source": [
    "# Exercise 9"
   ]
  },
  {
   "cell_type": "markdown",
   "metadata": {},
   "source": [
    "Now, regress square feet living on bedrooms, bathrooms, price, and floors."
   ]
  },
  {
   "cell_type": "code",
   "execution_count": 19,
   "metadata": {},
   "outputs": [],
   "source": [
    "import pandas as pd\n",
    "import statsmodels.formula.api as sm\n",
    "import matplotlib.pyplot as plt\n",
    "import numpy as np"
   ]
  },
  {
   "cell_type": "code",
   "execution_count": 20,
   "metadata": {},
   "outputs": [],
   "source": [
    "data = pd.read_csv(\"Kings_County_House.csv\")"
   ]
  },
  {
   "cell_type": "code",
   "execution_count": 21,
   "metadata": {},
   "outputs": [
    {
     "name": "stdout",
     "output_type": "stream",
     "text": [
      "Intercept   -305.314918\n",
      "bedrooms     231.158494\n",
      "bathrooms    500.738022\n",
      "price          0.001025\n",
      "floors        -4.474382\n",
      "dtype: float64\n",
      "                            OLS Regression Results                            \n",
      "==============================================================================\n",
      "Dep. Variable:            sqft_living   R-squared:                       0.739\n",
      "Model:                            OLS   Adj. R-squared:                  0.739\n",
      "Method:                 Least Squares   F-statistic:                 1.528e+04\n",
      "Date:                Tue, 03 Apr 2018   Prob (F-statistic):               0.00\n",
      "Time:                        16:49:52   Log-Likelihood:            -1.6362e+05\n",
      "No. Observations:               21613   AIC:                         3.272e+05\n",
      "Df Residuals:                   21608   BIC:                         3.273e+05\n",
      "Df Model:                           4                                         \n",
      "Covariance Type:            nonrobust                                         \n",
      "==============================================================================\n",
      "                 coef    std err          t      P>|t|      [0.025      0.975]\n",
      "------------------------------------------------------------------------------\n",
      "Intercept   -305.3149     13.858    -22.032      0.000    -332.477    -278.153\n",
      "bedrooms     231.1585      4.038     57.242      0.000     223.243     239.074\n",
      "bathrooms    500.7380      6.053     82.728      0.000     488.874     512.602\n",
      "price          0.0010   1.02e-05    100.234      0.000       0.001       0.001\n",
      "floors        -4.4744      6.874     -0.651      0.515     -17.949       9.000\n",
      "==============================================================================\n",
      "Omnibus:                     3982.390   Durbin-Watson:                   1.979\n",
      "Prob(Omnibus):                  0.000   Jarque-Bera (JB):            37817.059\n",
      "Skew:                           0.611   Prob(JB):                         0.00\n",
      "Kurtosis:                       9.364   Cond. No.                     2.96e+06\n",
      "==============================================================================\n",
      "\n",
      "Warnings:\n",
      "[1] Standard Errors assume that the covariance matrix of the errors is correctly specified.\n",
      "[2] The condition number is large, 2.96e+06. This might indicate that there are\n",
      "strong multicollinearity or other numerical problems.\n"
     ]
    }
   ],
   "source": [
    "#Regress sqft_living on bedrooms, bathrooms, price, and floors\n",
    "#Formula: Y = B0 + B1x1 + B2X2 + B3X3 + B4X4\n",
    "regr = sm.ols(formula = \"sqft_living ~ bedrooms + bathrooms + price + floors\", data = data).fit()\n",
    "\n",
    "#Print out the parameter values and other statistics\n",
    "print(regr.params)\n",
    "print(regr.summary())"
   ]
  },
  {
   "cell_type": "code",
   "execution_count": 22,
   "metadata": {},
   "outputs": [],
   "source": [
    "#Get predicted values\n",
    "predicted_y = regr.predict()"
   ]
  },
  {
   "cell_type": "code",
   "execution_count": 23,
   "metadata": {},
   "outputs": [
    {
     "data": {
      "image/png": "[encoded data removed]",
      "text/plain": [
       "<matplotlib.figure.Figure at 0xa7d32b0>"
      ]
     },
     "metadata": {},
     "output_type": "display_data"
    }
   ],
   "source": [
    "#Plot predicted values against actual values\n",
    "plt.scatter(predicted_y, data['sqft_living'])\n",
    "plt.plot(predicted_y, predicted_y, 'r-')\n",
    "plt.axis([0,7000, 0, 7000])\n",
    "plt.xlabel(\"Predicted Price\")\n",
    "plt.ylabel(\"Price\")\n",
    "plt.title(\"Linear Regression\")\n",
    "plt.show()"
   ]
  },
  {
   "cell_type": "code",
   "execution_count": null,
   "metadata": {},
   "outputs": [],
   "source": []
  },
  {
   "cell_type": "code",
   "execution_count": null,
   "metadata": {},
   "outputs": [],
   "source": []
  }
 ],
 "metadata": {
  "kernelspec": {
   "display_name": "Python 3",
   "language": "python",
   "name": "python3"
  },
  "language_info": {
   "codemirror_mode": {
    "name": "ipython",
    "version": 3
   },
   "file_extension": ".py",
   "mimetype": "text/x-python",
   "name": "python",
   "nbconvert_exporter": "python",
   "pygments_lexer": "ipython3",
   "version": "3.6.4"
  }
 },
 "nbformat": 4,
 "nbformat_minor": 1
}

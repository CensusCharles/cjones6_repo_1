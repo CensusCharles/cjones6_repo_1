{
 "cells": [
  {
   "cell_type": "code",
   "execution_count": 1,
   "metadata": {},
   "outputs": [],
   "source": [
    "import numpy  as np  # numeric array processing\n",
    "import pandas as pd  # dataframe processing\n",
    "import sklearn       # core ML algos\n",
    "from sklearn.metrics import accuracy_score\n",
    "from sklearn.discriminant_analysis import QuadraticDiscriminantAnalysis\n",
    "from sklearn.tree import DecisionTreeClassifier\n",
    "from sklearn.svm import SVC\n",
    "from sklearn.ensemble import RandomForestClassifier, GradientBoostingClassifier"
   ]
  },
  {
   "cell_type": "code",
   "execution_count": 2,
   "metadata": {},
   "outputs": [
    {
     "data": {
      "text/html": [
       "<div>\n",
       "<style scoped>\n",
       "    .dataframe tbody tr th:only-of-type {\n",
       "        vertical-align: middle;\n",
       "    }\n",
       "\n",
       "    .dataframe tbody tr th {\n",
       "        vertical-align: top;\n",
       "    }\n",
       "\n",
       "    .dataframe thead th {\n",
       "        text-align: right;\n",
       "    }\n",
       "</style>\n",
       "<table border=\"1\" class=\"dataframe\">\n",
       "  <thead>\n",
       "    <tr style=\"text-align: right;\">\n",
       "      <th></th>\n",
       "      <th>snap_id</th>\n",
       "      <th>UserCallsPerSec</th>\n",
       "      <th>AverageActiveSessions</th>\n",
       "      <th>CPUUsagePerSec</th>\n",
       "      <th>indicator_level</th>\n",
       "    </tr>\n",
       "  </thead>\n",
       "  <tbody>\n",
       "    <tr>\n",
       "      <th>0</th>\n",
       "      <td>22524</td>\n",
       "      <td>28.479122</td>\n",
       "      <td>0.408826</td>\n",
       "      <td>21.467000</td>\n",
       "      <td>green</td>\n",
       "    </tr>\n",
       "    <tr>\n",
       "      <th>1</th>\n",
       "      <td>22525</td>\n",
       "      <td>25.031165</td>\n",
       "      <td>0.860110</td>\n",
       "      <td>18.266597</td>\n",
       "      <td>green</td>\n",
       "    </tr>\n",
       "    <tr>\n",
       "      <th>2</th>\n",
       "      <td>22526</td>\n",
       "      <td>99.752599</td>\n",
       "      <td>3.291737</td>\n",
       "      <td>109.601373</td>\n",
       "      <td>green</td>\n",
       "    </tr>\n",
       "    <tr>\n",
       "      <th>3</th>\n",
       "      <td>22527</td>\n",
       "      <td>81.539292</td>\n",
       "      <td>4.135720</td>\n",
       "      <td>84.534086</td>\n",
       "      <td>green</td>\n",
       "    </tr>\n",
       "    <tr>\n",
       "      <th>4</th>\n",
       "      <td>22528</td>\n",
       "      <td>38.811217</td>\n",
       "      <td>0.491379</td>\n",
       "      <td>15.587512</td>\n",
       "      <td>green</td>\n",
       "    </tr>\n",
       "  </tbody>\n",
       "</table>\n",
       "</div>"
      ],
      "text/plain": [
       "   snap_id  UserCallsPerSec  AverageActiveSessions  CPUUsagePerSec  \\\n",
       "0    22524        28.479122               0.408826       21.467000   \n",
       "1    22525        25.031165               0.860110       18.266597   \n",
       "2    22526        99.752599               3.291737      109.601373   \n",
       "3    22527        81.539292               4.135720       84.534086   \n",
       "4    22528        38.811217               0.491379       15.587512   \n",
       "\n",
       "  indicator_level  \n",
       "0           green  \n",
       "1           green  \n",
       "2           green  \n",
       "3           green  \n",
       "4           green  "
      ]
     },
     "execution_count": 2,
     "metadata": {},
     "output_type": "execute_result"
    }
   ],
   "source": [
    "url = \"http://filebank.orapub.com/DataSets/jj_dba_hist_sysmetric_summary_ticket4.csv\"\n",
    "features = pd.read_csv(url, nrows=0).columns.tolist()\n",
    "myDF = pd.read_csv(url, names=features, skiprows=1) \n",
    "features = ['snap_id','UserCallsPerSec','AverageActiveSessions','CPUUsagePerSec',\\\n",
    "'indicator_level']\n",
    "myDF = myDF[features]\n",
    "myDF.shape\n",
    "myDF.head()"
   ]
  }
 ],
 "metadata": {
  "kernelspec": {
   "display_name": "Python 3",
   "language": "python",
   "name": "python3"
  },
  "language_info": {
   "codemirror_mode": {
    "name": "ipython",
    "version": 3
   },
   "file_extension": ".py",
   "mimetype": "text/x-python",
   "name": "python",
   "nbconvert_exporter": "python",
   "pygments_lexer": "ipython3",
   "version": "3.8.3"
  }
 },
 "nbformat": 4,
 "nbformat_minor": 4
}
